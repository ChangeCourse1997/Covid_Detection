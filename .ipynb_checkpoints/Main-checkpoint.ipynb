{
 "cells": [
  {
   "cell_type": "markdown",
   "metadata": {},
   "source": [
    "## X-ray image classification"
   ]
  },
  {
   "cell_type": "code",
   "execution_count": 1,
   "metadata": {},
   "outputs": [],
   "source": [
    "import pandas as pd\n",
    "import numpy as np\n",
    "import seaborn as sns\n",
    "import matplotlib.pyplot as plt"
   ]
  },
  {
   "cell_type": "markdown",
   "metadata": {},
   "source": [
    "https://www.kaggle.com/praveengovi/coronahack-chest-xraydataset"
   ]
  },
  {
   "cell_type": "code",
   "execution_count": 11,
   "metadata": {},
   "outputs": [],
   "source": [
    "data = pd.read_csv(\"archive (5)/Chest_xray_Corona_Metadata.csv\")"
   ]
  },
  {
   "cell_type": "code",
   "execution_count": 4,
   "metadata": {
    "scrolled": false
   },
   "outputs": [
    {
     "data": {
      "text/html": [
       "<div>\n",
       "<style scoped>\n",
       "    .dataframe tbody tr th:only-of-type {\n",
       "        vertical-align: middle;\n",
       "    }\n",
       "\n",
       "    .dataframe tbody tr th {\n",
       "        vertical-align: top;\n",
       "    }\n",
       "\n",
       "    .dataframe thead th {\n",
       "        text-align: right;\n",
       "    }\n",
       "</style>\n",
       "<table border=\"1\" class=\"dataframe\">\n",
       "  <thead>\n",
       "    <tr style=\"text-align: right;\">\n",
       "      <th></th>\n",
       "      <th>Unnamed: 0</th>\n",
       "      <th>X_ray_image_name</th>\n",
       "      <th>Label</th>\n",
       "      <th>Dataset_type</th>\n",
       "      <th>Label_2_Virus_category</th>\n",
       "      <th>Label_1_Virus_category</th>\n",
       "    </tr>\n",
       "  </thead>\n",
       "  <tbody>\n",
       "    <tr>\n",
       "      <th>0</th>\n",
       "      <td>0</td>\n",
       "      <td>IM-0128-0001.jpeg</td>\n",
       "      <td>Normal</td>\n",
       "      <td>TRAIN</td>\n",
       "      <td>NaN</td>\n",
       "      <td>NaN</td>\n",
       "    </tr>\n",
       "    <tr>\n",
       "      <th>1</th>\n",
       "      <td>1</td>\n",
       "      <td>IM-0127-0001.jpeg</td>\n",
       "      <td>Normal</td>\n",
       "      <td>TRAIN</td>\n",
       "      <td>NaN</td>\n",
       "      <td>NaN</td>\n",
       "    </tr>\n",
       "    <tr>\n",
       "      <th>2</th>\n",
       "      <td>2</td>\n",
       "      <td>IM-0125-0001.jpeg</td>\n",
       "      <td>Normal</td>\n",
       "      <td>TRAIN</td>\n",
       "      <td>NaN</td>\n",
       "      <td>NaN</td>\n",
       "    </tr>\n",
       "    <tr>\n",
       "      <th>3</th>\n",
       "      <td>3</td>\n",
       "      <td>IM-0122-0001.jpeg</td>\n",
       "      <td>Normal</td>\n",
       "      <td>TRAIN</td>\n",
       "      <td>NaN</td>\n",
       "      <td>NaN</td>\n",
       "    </tr>\n",
       "    <tr>\n",
       "      <th>4</th>\n",
       "      <td>4</td>\n",
       "      <td>IM-0119-0001.jpeg</td>\n",
       "      <td>Normal</td>\n",
       "      <td>TRAIN</td>\n",
       "      <td>NaN</td>\n",
       "      <td>NaN</td>\n",
       "    </tr>\n",
       "    <tr>\n",
       "      <th>...</th>\n",
       "      <td>...</td>\n",
       "      <td>...</td>\n",
       "      <td>...</td>\n",
       "      <td>...</td>\n",
       "      <td>...</td>\n",
       "      <td>...</td>\n",
       "    </tr>\n",
       "    <tr>\n",
       "      <th>5905</th>\n",
       "      <td>5928</td>\n",
       "      <td>person1637_virus_2834.jpeg</td>\n",
       "      <td>Pnemonia</td>\n",
       "      <td>TEST</td>\n",
       "      <td>NaN</td>\n",
       "      <td>Virus</td>\n",
       "    </tr>\n",
       "    <tr>\n",
       "      <th>5906</th>\n",
       "      <td>5929</td>\n",
       "      <td>person1635_virus_2831.jpeg</td>\n",
       "      <td>Pnemonia</td>\n",
       "      <td>TEST</td>\n",
       "      <td>NaN</td>\n",
       "      <td>Virus</td>\n",
       "    </tr>\n",
       "    <tr>\n",
       "      <th>5907</th>\n",
       "      <td>5930</td>\n",
       "      <td>person1634_virus_2830.jpeg</td>\n",
       "      <td>Pnemonia</td>\n",
       "      <td>TEST</td>\n",
       "      <td>NaN</td>\n",
       "      <td>Virus</td>\n",
       "    </tr>\n",
       "    <tr>\n",
       "      <th>5908</th>\n",
       "      <td>5931</td>\n",
       "      <td>person1633_virus_2829.jpeg</td>\n",
       "      <td>Pnemonia</td>\n",
       "      <td>TEST</td>\n",
       "      <td>NaN</td>\n",
       "      <td>Virus</td>\n",
       "    </tr>\n",
       "    <tr>\n",
       "      <th>5909</th>\n",
       "      <td>5932</td>\n",
       "      <td>person1632_virus_2827.jpeg</td>\n",
       "      <td>Pnemonia</td>\n",
       "      <td>TEST</td>\n",
       "      <td>NaN</td>\n",
       "      <td>Virus</td>\n",
       "    </tr>\n",
       "  </tbody>\n",
       "</table>\n",
       "<p>5910 rows × 6 columns</p>\n",
       "</div>"
      ],
      "text/plain": [
       "      Unnamed: 0            X_ray_image_name     Label Dataset_type  \\\n",
       "0              0           IM-0128-0001.jpeg    Normal        TRAIN   \n",
       "1              1           IM-0127-0001.jpeg    Normal        TRAIN   \n",
       "2              2           IM-0125-0001.jpeg    Normal        TRAIN   \n",
       "3              3           IM-0122-0001.jpeg    Normal        TRAIN   \n",
       "4              4           IM-0119-0001.jpeg    Normal        TRAIN   \n",
       "...          ...                         ...       ...          ...   \n",
       "5905        5928  person1637_virus_2834.jpeg  Pnemonia         TEST   \n",
       "5906        5929  person1635_virus_2831.jpeg  Pnemonia         TEST   \n",
       "5907        5930  person1634_virus_2830.jpeg  Pnemonia         TEST   \n",
       "5908        5931  person1633_virus_2829.jpeg  Pnemonia         TEST   \n",
       "5909        5932  person1632_virus_2827.jpeg  Pnemonia         TEST   \n",
       "\n",
       "     Label_2_Virus_category Label_1_Virus_category  \n",
       "0                       NaN                    NaN  \n",
       "1                       NaN                    NaN  \n",
       "2                       NaN                    NaN  \n",
       "3                       NaN                    NaN  \n",
       "4                       NaN                    NaN  \n",
       "...                     ...                    ...  \n",
       "5905                    NaN                  Virus  \n",
       "5906                    NaN                  Virus  \n",
       "5907                    NaN                  Virus  \n",
       "5908                    NaN                  Virus  \n",
       "5909                    NaN                  Virus  \n",
       "\n",
       "[5910 rows x 6 columns]"
      ]
     },
     "execution_count": 4,
     "metadata": {},
     "output_type": "execute_result"
    }
   ],
   "source": [
    "data"
   ]
  },
  {
   "cell_type": "code",
   "execution_count": 5,
   "metadata": {
    "scrolled": true
   },
   "outputs": [
    {
     "name": "stdout",
     "output_type": "stream",
     "text": [
      "<class 'pandas.core.frame.DataFrame'>\n",
      "RangeIndex: 5910 entries, 0 to 5909\n",
      "Data columns (total 6 columns):\n",
      " #   Column                  Non-Null Count  Dtype \n",
      "---  ------                  --------------  ----- \n",
      " 0   Unnamed: 0              5910 non-null   int64 \n",
      " 1   X_ray_image_name        5910 non-null   object\n",
      " 2   Label                   5910 non-null   object\n",
      " 3   Dataset_type            5910 non-null   object\n",
      " 4   Label_2_Virus_category  69 non-null     object\n",
      " 5   Label_1_Virus_category  4334 non-null   object\n",
      "dtypes: int64(1), object(5)\n",
      "memory usage: 277.2+ KB\n"
     ]
    }
   ],
   "source": [
    "data.info()"
   ]
  },
  {
   "cell_type": "markdown",
   "metadata": {},
   "source": [
    "There are 5910 chest X-ray images in our dataset!"
   ]
  },
  {
   "cell_type": "code",
   "execution_count": 6,
   "metadata": {},
   "outputs": [
    {
     "data": {
      "text/plain": [
       "Pnemonia    4334\n",
       "Normal      1576\n",
       "Name: Label, dtype: int64"
      ]
     },
     "execution_count": 6,
     "metadata": {},
     "output_type": "execute_result"
    }
   ],
   "source": [
    "data['Label'].value_counts()"
   ]
  },
  {
   "cell_type": "code",
   "execution_count": 7,
   "metadata": {
    "scrolled": true
   },
   "outputs": [
    {
     "data": {
      "text/plain": [
       "COVID-19         58\n",
       "Streptococcus     5\n",
       "SARS              4\n",
       "ARDS              2\n",
       "Name: Label_2_Virus_category, dtype: int64"
      ]
     },
     "execution_count": 7,
     "metadata": {},
     "output_type": "execute_result"
    }
   ],
   "source": [
    "data['Label_2_Virus_category'].value_counts()"
   ]
  },
  {
   "cell_type": "code",
   "execution_count": 8,
   "metadata": {
    "scrolled": false
   },
   "outputs": [
    {
     "data": {
      "text/plain": [
       "bacteria          2777\n",
       "Virus             1555\n",
       "Stress-Smoking       2\n",
       "Name: Label_1_Virus_category, dtype: int64"
      ]
     },
     "execution_count": 8,
     "metadata": {},
     "output_type": "execute_result"
    }
   ],
   "source": [
    "data['Label_1_Virus_category'].value_counts()"
   ]
  },
  {
   "cell_type": "code",
   "execution_count": 9,
   "metadata": {
    "scrolled": true
   },
   "outputs": [
    {
     "data": {
      "text/plain": [
       "<AxesSubplot:xlabel='Label', ylabel='count'>"
      ]
     },
     "execution_count": 9,
     "metadata": {},
     "output_type": "execute_result"
    },
    {
     "data": {
      "image/png": "[encoded data removed]",
      "text/plain": [
       "<Figure size 432x288 with 1 Axes>"
      ]
     },
     "metadata": {
      "needs_background": "light"
     },
     "output_type": "display_data"
    }
   ],
   "source": [
    "sns.countplot(x=data['Label'])"
   ]
  },
  {
   "cell_type": "code",
   "execution_count": 10,
   "metadata": {
    "scrolled": true
   },
   "outputs": [
    {
     "data": {
      "text/plain": [
       "<AxesSubplot:xlabel='Label_2_Virus_category', ylabel='count'>"
      ]
     },
     "execution_count": 10,
     "metadata": {},
     "output_type": "execute_result"
    },
    {
     "data": {
      "image/png": "[encoded data removed]",
      "text/plain": [
       "<Figure size 432x288 with 1 Axes>"
      ]
     },
     "metadata": {
      "needs_background": "light"
     },
     "output_type": "display_data"
    }
   ],
   "source": [
    "sns.countplot(x=data['Label_2_Virus_category'])"
   ]
  },
  {
   "cell_type": "markdown",
   "metadata": {},
   "source": [
    "Since I will be trying to detect COVID from X-Rays, I will label the other pnuemonia virus as just pnuemonia. Since during the pandemic, COVID-19 will be much more prelavent in the society."
   ]
  },
  {
   "cell_type": "markdown",
   "metadata": {},
   "source": [
    "Hence the images will have 3 classes. First, X_ray images of normal lungs. Second, X_ray images of lungs with Pnuemonia. Thirdly, X_ray images of lungs infected with COVID-19."
   ]
  },
  {
   "cell_type": "markdown",
   "metadata": {},
   "source": [
    "###### Data Preprocessing"
   ]
  },
  {
   "cell_type": "code",
   "execution_count": 12,
   "metadata": {
    "scrolled": false
   },
   "outputs": [],
   "source": [
    "Train_normal= list(data[(data['Dataset_type']=='TRAIN')&(data['Label']=='Normal')]['X_ray_image_name'])"
   ]
  },
  {
   "cell_type": "code",
   "execution_count": 13,
   "metadata": {},
   "outputs": [],
   "source": [
    "Train_covid=list(data[(data['Dataset_type']=='TRAIN')&(data['Label_2_Virus_category']=='COVID-19')]['X_ray_image_name'])"
   ]
  },
  {
   "cell_type": "code",
   "execution_count": 14,
   "metadata": {},
   "outputs": [],
   "source": [
    "Train_pnuemonia=list(data[(data['Dataset_type']=='TRAIN')&(data['Label']=='Pnemonia')&(data['Label_2_Virus_category']!='COVID-19')]['X_ray_image_name'])"
   ]
  },
  {
   "cell_type": "code",
   "execution_count": 14,
   "metadata": {},
   "outputs": [
    {
     "data": {
      "text/plain": [
       "TRAIN    5286\n",
       "TEST      624\n",
       "Name: Dataset_type, dtype: int64"
      ]
     },
     "execution_count": 14,
     "metadata": {},
     "output_type": "execute_result"
    }
   ],
   "source": [
    "data['Dataset_type'].value_counts()"
   ]
  },
  {
   "cell_type": "code",
   "execution_count": 15,
   "metadata": {},
   "outputs": [
    {
     "data": {
      "text/plain": [
       "5286"
      ]
     },
     "execution_count": 15,
     "metadata": {},
     "output_type": "execute_result"
    }
   ],
   "source": [
    "len(Train_normal)+len(Train_covid)+len(Train_pnuemonia)"
   ]
  },
  {
   "cell_type": "markdown",
   "metadata": {},
   "source": [
    "We have correctly seperated our train data into 3 separate classes."
   ]
  },
  {
   "cell_type": "code",
   "execution_count": 15,
   "metadata": {},
   "outputs": [],
   "source": [
    "Test_normal= list(data[(data['Dataset_type']=='TEST')&(data['Label']=='Normal')]['X_ray_image_name'])"
   ]
  },
  {
   "cell_type": "code",
   "execution_count": 16,
   "metadata": {},
   "outputs": [],
   "source": [
    "Test_covid=list(data[(data['Dataset_type']=='TEST')&(data['Label_2_Virus_category']=='COVID-19')]['X_ray_image_name'])"
   ]
  },
  {
   "cell_type": "code",
   "execution_count": 17,
   "metadata": {},
   "outputs": [],
   "source": [
    "Test_pnuemonia=list(data[(data['Dataset_type']=='TEST')&(data['Label']=='Pnemonia')&(data['Label_2_Virus_category']!='COVID-19')]['X_ray_image_name'])"
   ]
  },
  {
   "cell_type": "code",
   "execution_count": 19,
   "metadata": {
    "scrolled": true
   },
   "outputs": [
    {
     "data": {
      "text/plain": [
       "624"
      ]
     },
     "execution_count": 19,
     "metadata": {},
     "output_type": "execute_result"
    }
   ],
   "source": [
    "len(Test_normal)+len(Test_covid)+len(Test_pnuemonia)"
   ]
  },
  {
   "cell_type": "markdown",
   "metadata": {},
   "source": [
    "Our train data and test data list has been prepared, now we move the images to respective folders."
   ]
  },
  {
   "cell_type": "code",
   "execution_count": 20,
   "metadata": {},
   "outputs": [],
   "source": [
    "import shutil\n",
    "for i in Train_normal:\n",
    "    original = r\"archive (5)/Coronahack-Chest-XRay-Dataset/Coronahack-Chest-XRay-Dataset/train/{}\".format(i)\n",
    "    target = r\"archive (5)/Train/Normal\"\n",
    "    shutil.move(original,target)"
   ]
  },
  {
   "cell_type": "code",
   "execution_count": 21,
   "metadata": {},
   "outputs": [],
   "source": [
    "for i in Train_pnuemonia:\n",
    "    original = r\"archive (5)/Coronahack-Chest-XRay-Dataset/Coronahack-Chest-XRay-Dataset/train/{}\".format(i)\n",
    "    target = r\"archive (5)/Train/Pneumonia\"\n",
    "    shutil.move(original,target)"
   ]
  },
  {
   "cell_type": "code",
   "execution_count": 22,
   "metadata": {},
   "outputs": [],
   "source": [
    "for i in Train_covid:\n",
    "    original = r\"archive (5)/Coronahack-Chest-XRay-Dataset/Coronahack-Chest-XRay-Dataset/train/{}\".format(i)\n",
    "    target = r\"archive (5)/Train/Covid\"\n",
    "    shutil.move(original,target)"
   ]
  },
  {
   "cell_type": "markdown",
   "metadata": {},
   "source": [
    "Now we move the Test data into the respective folders"
   ]
  },
  {
   "cell_type": "code",
   "execution_count": 24,
   "metadata": {},
   "outputs": [],
   "source": [
    "for i in Test_normal:\n",
    "    original = r\"archive (5)/Coronahack-Chest-XRay-Dataset/Coronahack-Chest-XRay-Dataset/test/{}\".format(i)\n",
    "    target = r\"archive (5)/Test/Normal\"\n",
    "    shutil.move(original,target)\n",
    "\n",
    "for i in Test_pnuemonia:\n",
    "    original = r\"archive (5)/Coronahack-Chest-XRay-Dataset/Coronahack-Chest-XRay-Dataset/test/{}\".format(i)\n",
    "    target = r\"archive (5)/Test/Pneumonia\"\n",
    "    shutil.move(original,target)\n",
    "    \n",
    "for i in Test_covid:\n",
    "    original = r\"archive (5)/Coronahack-Chest-XRay-Dataset/Coronahack-Chest-XRay-Dataset/test/{}\".format(i)\n",
    "    target = r\"archive (5)/Test/Covid\"\n",
    "    shutil.move(original,target)"
   ]
  },
  {
   "cell_type": "code",
   "execution_count": 1,
   "metadata": {},
   "outputs": [
    {
     "name": "stdout",
     "output_type": "stream",
     "text": [
      "Found 5286 images belonging to 3 classes.\n",
      "Found 632 images belonging to 3 classes.\n"
     ]
    }
   ],
   "source": [
    "import tensorflow as tf\n",
    "from keras.preprocessing.image import ImageDataGenerator\n",
    "\n",
    "train_datagen = ImageDataGenerator(rescale=1./255,\n",
    "                                   shear_range=0.2,\n",
    "                                   zoom_range=0.2,\n",
    "                                   horizontal_flip=True)\n",
    "training_set = train_datagen.flow_from_directory(\"archive (5)/Train\",class_mode='categorical',target_size=(150,150))\n",
    "\n",
    "test_datagen = ImageDataGenerator(rescale=1./255)\n",
    "test_set = test_datagen.flow_from_directory(\"archive (5)/Test\",batch_size=32,class_mode='categorical',target_size=(150,150))\n"
   ]
  },
  {
   "cell_type": "code",
   "execution_count": 31,
   "metadata": {},
   "outputs": [
    {
     "name": "stdout",
     "output_type": "stream",
     "text": [
      "(32, 64, 64, 3)\n",
      "(32, 3)\n"
     ]
    }
   ],
   "source": [
    "for i in training_set[0]:\n",
    "    print(i.shape)"
   ]
  },
  {
   "cell_type": "code",
   "execution_count": 2,
   "metadata": {},
   "outputs": [],
   "source": [
    "from tensorflow.keras.layers import Input, Conv2D, Dense, Flatten,MaxPool2D, Dropout,BatchNormalization\n",
    "from tensorflow.keras.models import Model\n",
    "\n",
    "\n",
    "cnn = tf.keras.models.Sequential()\n",
    "\n",
    "cnn.add(Conv2D(filters=32,kernel_size=3,activation='relu',input_shape=[150,150,3]))\n",
    "\n",
    "cnn.add(BatchNormalization())\n",
    "\n",
    "cnn.add(MaxPool2D(pool_size=2,strides=2))\n",
    "\n",
    "cnn.add(Conv2D(filters=32,kernel_size=3,activation='relu'))\n",
    "\n",
    "cnn.add(BatchNormalization())\n",
    "\n",
    "cnn.add(MaxPool2D(pool_size=2,strides=2))\n",
    "\n",
    "cnn.add(Flatten())\n",
    "\n",
    "cnn.add(Dense(units=128,activation='relu'))\n",
    "cnn.add(Dropout(0.5))\n",
    "\n",
    "cnn.add(Dense(units=3,activation='softmax'))"
   ]
  },
  {
   "cell_type": "code",
   "execution_count": 3,
   "metadata": {
    "scrolled": true
   },
   "outputs": [
    {
     "name": "stdout",
     "output_type": "stream",
     "text": [
      "Model: \"sequential\"\n",
      "_________________________________________________________________\n",
      "Layer (type)                 Output Shape              Param #   \n",
      "=================================================================\n",
      "conv2d (Conv2D)              (None, 148, 148, 32)      896       \n",
      "_________________________________________________________________\n",
      "batch_normalization (BatchNo (None, 148, 148, 32)      128       \n",
      "_________________________________________________________________\n",
      "max_pooling2d (MaxPooling2D) (None, 74, 74, 32)        0         \n",
      "_________________________________________________________________\n",
      "conv2d_1 (Conv2D)            (None, 72, 72, 32)        9248      \n",
      "_________________________________________________________________\n",
      "batch_normalization_1 (Batch (None, 72, 72, 32)        128       \n",
      "_________________________________________________________________\n",
      "max_pooling2d_1 (MaxPooling2 (None, 36, 36, 32)        0         \n",
      "_________________________________________________________________\n",
      "flatten (Flatten)            (None, 41472)             0         \n",
      "_________________________________________________________________\n",
      "dense (Dense)                (None, 128)               5308544   \n",
      "_________________________________________________________________\n",
      "dropout (Dropout)            (None, 128)               0         \n",
      "_________________________________________________________________\n",
      "dense_1 (Dense)              (None, 3)                 387       \n",
      "=================================================================\n",
      "Total params: 5,319,331\n",
      "Trainable params: 5,319,203\n",
      "Non-trainable params: 128\n",
      "_________________________________________________________________\n"
     ]
    }
   ],
   "source": [
    "cnn.summary()"
   ]
  },
  {
   "cell_type": "code",
   "execution_count": 4,
   "metadata": {},
   "outputs": [
    {
     "name": "stdout",
     "output_type": "stream",
     "text": [
      "Epoch 1/100\n",
      "166/166 [==============================] - 143s 857ms/step - loss: 2.3620 - accuracy: 0.7897 - val_loss: 8.4681 - val_accuracy: 0.6187\n",
      "Epoch 2/100\n",
      "166/166 [==============================] - 110s 659ms/step - loss: 0.4299 - accuracy: 0.8605 - val_loss: 7.2659 - val_accuracy: 0.6171\n",
      "Epoch 3/100\n",
      "166/166 [==============================] - 110s 660ms/step - loss: 0.3537 - accuracy: 0.8919 - val_loss: 1.4066 - val_accuracy: 0.6630\n",
      "Epoch 4/100\n",
      "166/166 [==============================] - 108s 652ms/step - loss: 0.3004 - accuracy: 0.8943 - val_loss: 2.6337 - val_accuracy: 0.6203\n",
      "Epoch 5/100\n",
      "166/166 [==============================] - 109s 656ms/step - loss: 0.2986 - accuracy: 0.8995 - val_loss: 8.0297 - val_accuracy: 0.3956\n",
      "Epoch 6/100\n",
      "166/166 [==============================] - 109s 658ms/step - loss: 0.3078 - accuracy: 0.8946 - val_loss: 0.9807 - val_accuracy: 0.6994\n",
      "Epoch 7/100\n",
      "166/166 [==============================] - 112s 674ms/step - loss: 0.3101 - accuracy: 0.9010 - val_loss: 1.4379 - val_accuracy: 0.5032\n",
      "Epoch 8/100\n",
      "166/166 [==============================] - 112s 675ms/step - loss: 0.2234 - accuracy: 0.9144 - val_loss: 0.2796 - val_accuracy: 0.8861\n",
      "Epoch 9/100\n",
      "166/166 [==============================] - 114s 686ms/step - loss: 0.2958 - accuracy: 0.8940 - val_loss: 1.1283 - val_accuracy: 0.8212\n",
      "Epoch 10/100\n",
      "166/166 [==============================] - 113s 682ms/step - loss: 0.2750 - accuracy: 0.9051 - val_loss: 0.7462 - val_accuracy: 0.7848\n",
      "Epoch 11/100\n",
      "166/166 [==============================] - 113s 676ms/step - loss: 0.2463 - accuracy: 0.9103 - val_loss: 0.5632 - val_accuracy: 0.8544\n",
      "Epoch 12/100\n",
      "166/166 [==============================] - 113s 679ms/step - loss: 0.2760 - accuracy: 0.9143 - val_loss: 1.0433 - val_accuracy: 0.7342\n",
      "Epoch 13/100\n",
      "166/166 [==============================] - 113s 681ms/step - loss: 0.2525 - accuracy: 0.9118 - val_loss: 0.6172 - val_accuracy: 0.8133\n",
      "Epoch 14/100\n",
      "166/166 [==============================] - 110s 663ms/step - loss: 0.2018 - accuracy: 0.9235 - val_loss: 1.9442 - val_accuracy: 0.6329\n",
      "Epoch 15/100\n",
      "166/166 [==============================] - 107s 642ms/step - loss: 0.2625 - accuracy: 0.9162 - val_loss: 6.8744 - val_accuracy: 0.6171\n",
      "Epoch 16/100\n",
      "166/166 [==============================] - 107s 644ms/step - loss: 0.4266 - accuracy: 0.9029 - val_loss: 1.0615 - val_accuracy: 0.8022\n",
      "Epoch 17/100\n",
      "166/166 [==============================] - 107s 640ms/step - loss: 0.2445 - accuracy: 0.9162 - val_loss: 2.7240 - val_accuracy: 0.6424\n",
      "Epoch 18/100\n",
      "166/166 [==============================] - 106s 639ms/step - loss: 0.2545 - accuracy: 0.9249 - val_loss: 1.3799 - val_accuracy: 0.7563\n",
      "Epoch 19/100\n",
      "166/166 [==============================] - 107s 640ms/step - loss: 0.2360 - accuracy: 0.9242 - val_loss: 0.5889 - val_accuracy: 0.8244\n",
      "Epoch 20/100\n",
      "166/166 [==============================] - 107s 640ms/step - loss: 0.2081 - accuracy: 0.9293 - val_loss: 1.0777 - val_accuracy: 0.7342\n",
      "Epoch 21/100\n",
      "166/166 [==============================] - 106s 640ms/step - loss: 0.2035 - accuracy: 0.9240 - val_loss: 0.3803 - val_accuracy: 0.8560\n",
      "Epoch 22/100\n",
      "166/166 [==============================] - 109s 658ms/step - loss: 0.2046 - accuracy: 0.9314 - val_loss: 0.3780 - val_accuracy: 0.8845\n",
      "Epoch 23/100\n",
      "166/166 [==============================] - 113s 682ms/step - loss: 0.2096 - accuracy: 0.9451 - val_loss: 0.6444 - val_accuracy: 0.8165\n",
      "Epoch 00023: early stopping\n"
     ]
    },
    {
     "data": {
      "text/plain": [
       "<tensorflow.python.keras.callbacks.History at 0x21ddf92de50>"
      ]
     },
     "execution_count": 4,
     "metadata": {},
     "output_type": "execute_result"
    }
   ],
   "source": [
    "from tensorflow.keras.callbacks import EarlyStopping\n",
    "\n",
    "early_stop = EarlyStopping(monitor='val_loss', mode='min', verbose=1, patience=15)\n",
    "\n",
    "\n",
    "cnn.compile(optimizer = 'adam', loss = 'categorical_crossentropy', metrics = ['accuracy'])\n",
    "\n",
    "cnn.fit(x = training_set, validation_data = test_set, epochs = 100,callbacks=[early_stop],verbose=1)"
   ]
  },
  {
   "cell_type": "code",
   "execution_count": 10,
   "metadata": {},
   "outputs": [],
   "source": [
    "cnn.save('X-Ray multiclassification.h5')"
   ]
  },
  {
   "cell_type": "code",
   "execution_count": 7,
   "metadata": {},
   "outputs": [
    {
     "data": {
      "text/plain": [
       "<AxesSubplot:>"
      ]
     },
     "execution_count": 7,
     "metadata": {},
     "output_type": "execute_result"
    },
    {
     "data": {
      "image/png": "[encoded data removed]",
      "text/plain": [
       "<Figure size 432x288 with 1 Axes>"
      ]
     },
     "metadata": {
      "needs_background": "light"
     },
     "output_type": "display_data"
    }
   ],
   "source": [
    "model_loss = pd.DataFrame(cnn.history.history)\n",
    "model_loss.plot(ylim=(0,1))"
   ]
  },
  {
   "cell_type": "code",
   "execution_count": 8,
   "metadata": {},
   "outputs": [
    {
     "name": "stdout",
     "output_type": "stream",
     "text": [
      "[[  0   4   4]\n",
      " [  2 124 108]\n",
      " [  0 197 193]]\n"
     ]
    }
   ],
   "source": [
    "from sklearn.metrics import confusion_matrix\n",
    "\n",
    "\n",
    "p_test = cnn.predict(test_set).argmax(axis=1)\n",
    "\n",
    "print(confusion_matrix(test_set.classes,p_test))"
   ]
  },
  {
   "cell_type": "code",
   "execution_count": 60,
   "metadata": {},
   "outputs": [
    {
     "data": {
      "text/plain": [
       "{'Covid': 0, 'Normal': 1, 'Pneumonia': 2}"
      ]
     },
     "execution_count": 60,
     "metadata": {},
     "output_type": "execute_result"
    }
   ],
   "source": [
    "test_set.class_indices"
   ]
  },
  {
   "cell_type": "code",
   "execution_count": 9,
   "metadata": {},
   "outputs": [
    {
     "name": "stdout",
     "output_type": "stream",
     "text": [
      "[[  0   4   4]\n",
      " [  2 124 108]\n",
      " [  0 197 193]]\n",
      "\n",
      "\n",
      "              precision    recall  f1-score   support\n",
      "\n",
      "       Covid       0.00      0.00      0.00         8\n",
      "      Normal       0.38      0.53      0.44       234\n",
      "   Pneumonia       0.63      0.49      0.56       390\n",
      "\n",
      "    accuracy                           0.50       632\n",
      "   macro avg       0.34      0.34      0.33       632\n",
      "weighted avg       0.53      0.50      0.51       632\n",
      "\n",
      "\n",
      "\n"
     ]
    }
   ],
   "source": [
    "from sklearn.metrics import classification_report,confusion_matrix,accuracy_score\n",
    "print(confusion_matrix(test_set.labels,p_test))\n",
    "print('\\n')\n",
    "print(classification_report(test_set.labels,p_test,target_names=test_set.class_indices))\n",
    "print('\\n')\n"
   ]
  },
  {
   "cell_type": "markdown",
   "metadata": {},
   "source": [
    "Model performed poorly for three classes."
   ]
  },
  {
   "cell_type": "code",
   "execution_count": 18,
   "metadata": {},
   "outputs": [],
   "source": [
    "import shutil\n",
    "for i in Train_covid:\n",
    "    original = r\"archive (5)/Train/Covid/{}\".format(i)\n",
    "    target = r\"archive (5)/Train/Pneumonia\"\n",
    "    shutil.move(original,target)\n",
    "    \n",
    "for i in Test_covid:\n",
    "    original = r\"archive (5)/Test/Covid/{}\".format(i)\n",
    "    target = r\"archive (5)/Test/Pneumonia\"\n",
    "    shutil.move(original,target)    "
   ]
  },
  {
   "cell_type": "code",
   "execution_count": 3,
   "metadata": {},
   "outputs": [
    {
     "name": "stdout",
     "output_type": "stream",
     "text": [
      "Found 5286 images belonging to 2 classes.\n",
      "Found 624 images belonging to 2 classes.\n"
     ]
    }
   ],
   "source": [
    "import tensorflow as tf\n",
    "from keras.preprocessing.image import ImageDataGenerator\n",
    "\n",
    "train_datagen = ImageDataGenerator(rescale=1./255,\n",
    "                                   shear_range=0.2,\n",
    "                                   zoom_range=0.2,\n",
    "                                   horizontal_flip=True)\n",
    "training_set = train_datagen.flow_from_directory(\"archive (5)/Train\",class_mode='binary',target_size=(150,150))\n",
    "\n",
    "test_datagen = ImageDataGenerator(rescale=1./255)\n",
    "test_set = test_datagen.flow_from_directory(\"archive (5)/Test\",batch_size=32,class_mode='binary',target_size=(150,150))\n"
   ]
  },
  {
   "cell_type": "code",
   "execution_count": 4,
   "metadata": {},
   "outputs": [],
   "source": [
    "from tensorflow.keras.layers import Input, Conv2D, Dense, Flatten,MaxPool2D, Dropout,BatchNormalization\n",
    "\n",
    "cnn2 = tf.keras.models.Sequential()\n",
    "\n",
    "cnn2.add(Conv2D(filters=32,kernel_size=3,activation='relu',input_shape=[150,150,3]))\n",
    "\n",
    "cnn2.add(BatchNormalization())\n",
    "\n",
    "cnn2.add(MaxPool2D(pool_size=2,strides=2))\n",
    "\n",
    "cnn2.add(Conv2D(filters=32,kernel_size=3,activation='relu'))\n",
    "\n",
    "cnn2.add(BatchNormalization())\n",
    "\n",
    "cnn2.add(MaxPool2D(pool_size=2,strides=2))\n",
    "\n",
    "cnn2.add(Flatten())\n",
    "\n",
    "cnn2.add(Dense(units=128,activation='relu'))\n",
    "cnn2.add(Dropout(0.2))\n",
    "\n",
    "cnn2.add(Dense(units=1,activation='sigmoid'))"
   ]
  },
  {
   "cell_type": "code",
   "execution_count": 5,
   "metadata": {},
   "outputs": [
    {
     "name": "stdout",
     "output_type": "stream",
     "text": [
      "Model: \"sequential\"\n",
      "_________________________________________________________________\n",
      "Layer (type)                 Output Shape              Param #   \n",
      "=================================================================\n",
      "conv2d (Conv2D)              (None, 148, 148, 32)      896       \n",
      "_________________________________________________________________\n",
      "batch_normalization (BatchNo (None, 148, 148, 32)      128       \n",
      "_________________________________________________________________\n",
      "max_pooling2d (MaxPooling2D) (None, 74, 74, 32)        0         \n",
      "_________________________________________________________________\n",
      "conv2d_1 (Conv2D)            (None, 72, 72, 32)        9248      \n",
      "_________________________________________________________________\n",
      "batch_normalization_1 (Batch (None, 72, 72, 32)        128       \n",
      "_________________________________________________________________\n",
      "max_pooling2d_1 (MaxPooling2 (None, 36, 36, 32)        0         \n",
      "_________________________________________________________________\n",
      "flatten (Flatten)            (None, 41472)             0         \n",
      "_________________________________________________________________\n",
      "dense (Dense)                (None, 128)               5308544   \n",
      "_________________________________________________________________\n",
      "dropout (Dropout)            (None, 128)               0         \n",
      "_________________________________________________________________\n",
      "dense_1 (Dense)              (None, 1)                 129       \n",
      "=================================================================\n",
      "Total params: 5,319,073\n",
      "Trainable params: 5,318,945\n",
      "Non-trainable params: 128\n",
      "_________________________________________________________________\n"
     ]
    }
   ],
   "source": [
    "cnn2.summary()"
   ]
  },
  {
   "cell_type": "code",
   "execution_count": 7,
   "metadata": {},
   "outputs": [
    {
     "name": "stdout",
     "output_type": "stream",
     "text": [
      "Epoch 1/100\n",
      "166/166 [==============================] - 138s 828ms/step - loss: 1.3690 - accuracy: 0.8328 - val_loss: 10.4612 - val_accuracy: 0.6250\n",
      "Epoch 2/100\n",
      "166/166 [==============================] - 107s 644ms/step - loss: 0.2414 - accuracy: 0.9081 - val_loss: 3.6015 - val_accuracy: 0.6298\n",
      "Epoch 3/100\n",
      "166/166 [==============================] - 107s 643ms/step - loss: 0.1782 - accuracy: 0.9353 - val_loss: 0.8571 - val_accuracy: 0.6474\n",
      "Epoch 4/100\n",
      "166/166 [==============================] - 115s 693ms/step - loss: 0.1968 - accuracy: 0.9240 - val_loss: 0.9403 - val_accuracy: 0.8125\n",
      "Epoch 5/100\n",
      "166/166 [==============================] - 128s 768ms/step - loss: 0.1733 - accuracy: 0.9335 - val_loss: 32.0521 - val_accuracy: 0.3766\n",
      "Epoch 6/100\n",
      "166/166 [==============================] - 102s 610ms/step - loss: 0.1832 - accuracy: 0.9270 - val_loss: 3.9372 - val_accuracy: 0.6266\n",
      "Epoch 7/100\n",
      "166/166 [==============================] - 109s 656ms/step - loss: 0.1807 - accuracy: 0.9281 - val_loss: 0.2938 - val_accuracy: 0.8814\n",
      "Epoch 8/100\n",
      "166/166 [==============================] - 110s 660ms/step - loss: 0.1706 - accuracy: 0.9373 - val_loss: 1.6357 - val_accuracy: 0.7196\n",
      "Epoch 9/100\n",
      "166/166 [==============================] - 108s 650ms/step - loss: 0.1952 - accuracy: 0.9280 - val_loss: 36.2302 - val_accuracy: 0.3750\n",
      "Epoch 10/100\n",
      "166/166 [==============================] - 111s 665ms/step - loss: 0.1793 - accuracy: 0.9297 - val_loss: 0.4890 - val_accuracy: 0.8574\n",
      "Epoch 11/100\n",
      "166/166 [==============================] - 110s 659ms/step - loss: 0.1588 - accuracy: 0.9395 - val_loss: 0.8315 - val_accuracy: 0.6811\n",
      "Epoch 12/100\n",
      "166/166 [==============================] - 108s 649ms/step - loss: 0.1486 - accuracy: 0.9425 - val_loss: 2.3992 - val_accuracy: 0.6282\n",
      "Epoch 13/100\n",
      "166/166 [==============================] - 108s 648ms/step - loss: 0.1363 - accuracy: 0.9465 - val_loss: 1.0479 - val_accuracy: 0.7660\n",
      "Epoch 14/100\n",
      "166/166 [==============================] - 109s 654ms/step - loss: 0.1278 - accuracy: 0.9485 - val_loss: 7.3948 - val_accuracy: 0.6266\n",
      "Epoch 15/100\n",
      "166/166 [==============================] - 111s 664ms/step - loss: 0.1415 - accuracy: 0.9534 - val_loss: 1.2949 - val_accuracy: 0.5529\n",
      "Epoch 16/100\n",
      "166/166 [==============================] - 112s 672ms/step - loss: 0.1375 - accuracy: 0.9457 - val_loss: 0.3680 - val_accuracy: 0.8574\n",
      "Epoch 17/100\n",
      "166/166 [==============================] - 108s 651ms/step - loss: 0.1339 - accuracy: 0.9496 - val_loss: 0.7593 - val_accuracy: 0.8237\n",
      "Epoch 18/100\n",
      "166/166 [==============================] - 109s 656ms/step - loss: 0.1130 - accuracy: 0.9547 - val_loss: 0.7225 - val_accuracy: 0.7292\n",
      "Epoch 19/100\n",
      "166/166 [==============================] - 107s 644ms/step - loss: 0.1033 - accuracy: 0.9569 - val_loss: 1.5817 - val_accuracy: 0.7596\n",
      "Epoch 20/100\n",
      "166/166 [==============================] - 110s 659ms/step - loss: 0.1049 - accuracy: 0.9604 - val_loss: 0.3910 - val_accuracy: 0.8478\n",
      "Epoch 21/100\n",
      "166/166 [==============================] - 110s 661ms/step - loss: 0.1120 - accuracy: 0.9604 - val_loss: 0.2857 - val_accuracy: 0.9087\n",
      "Epoch 22/100\n",
      "166/166 [==============================] - 111s 666ms/step - loss: 0.1093 - accuracy: 0.9590 - val_loss: 0.7685 - val_accuracy: 0.7564\n",
      "Epoch 23/100\n",
      "166/166 [==============================] - 113s 679ms/step - loss: 0.1080 - accuracy: 0.9570 - val_loss: 0.3306 - val_accuracy: 0.8782\n",
      "Epoch 24/100\n",
      "166/166 [==============================] - 109s 655ms/step - loss: 0.1082 - accuracy: 0.9598 - val_loss: 2.9376 - val_accuracy: 0.6314\n",
      "Epoch 25/100\n",
      "166/166 [==============================] - 108s 651ms/step - loss: 0.1173 - accuracy: 0.9592 - val_loss: 1.0981 - val_accuracy: 0.6875\n",
      "Epoch 26/100\n",
      "166/166 [==============================] - 111s 665ms/step - loss: 0.1043 - accuracy: 0.9609 - val_loss: 6.7483 - val_accuracy: 0.6250\n",
      "Epoch 27/100\n",
      "166/166 [==============================] - 111s 665ms/step - loss: 0.1056 - accuracy: 0.9661 - val_loss: 0.4070 - val_accuracy: 0.8574\n",
      "Epoch 28/100\n",
      "166/166 [==============================] - 110s 663ms/step - loss: 0.0925 - accuracy: 0.9684 - val_loss: 0.2780 - val_accuracy: 0.9183\n",
      "Epoch 29/100\n",
      "166/166 [==============================] - 112s 673ms/step - loss: 0.0878 - accuracy: 0.9659 - val_loss: 0.4374 - val_accuracy: 0.8622\n",
      "Epoch 30/100\n",
      "166/166 [==============================] - 110s 661ms/step - loss: 0.0972 - accuracy: 0.9653 - val_loss: 0.5893 - val_accuracy: 0.7612\n",
      "Epoch 31/100\n",
      "166/166 [==============================] - 110s 663ms/step - loss: 0.1050 - accuracy: 0.9601 - val_loss: 1.0454 - val_accuracy: 0.6923\n",
      "Epoch 32/100\n",
      "166/166 [==============================] - 110s 659ms/step - loss: 0.0908 - accuracy: 0.9649 - val_loss: 0.5021 - val_accuracy: 0.8590\n",
      "Epoch 33/100\n",
      "166/166 [==============================] - 107s 642ms/step - loss: 0.1007 - accuracy: 0.9644 - val_loss: 0.3991 - val_accuracy: 0.8814\n",
      "Epoch 34/100\n",
      "166/166 [==============================] - 109s 654ms/step - loss: 0.1055 - accuracy: 0.9641 - val_loss: 0.4489 - val_accuracy: 0.8782\n",
      "Epoch 35/100\n",
      "166/166 [==============================] - 107s 645ms/step - loss: 0.0870 - accuracy: 0.9666 - val_loss: 0.3072 - val_accuracy: 0.8830\n",
      "Epoch 36/100\n",
      "166/166 [==============================] - 108s 652ms/step - loss: 0.1032 - accuracy: 0.9596 - val_loss: 0.3787 - val_accuracy: 0.8926\n",
      "Epoch 37/100\n",
      "166/166 [==============================] - 110s 661ms/step - loss: 0.0989 - accuracy: 0.9623 - val_loss: 0.9128 - val_accuracy: 0.8157\n",
      "Epoch 38/100\n",
      "166/166 [==============================] - 110s 658ms/step - loss: 0.0867 - accuracy: 0.9681 - val_loss: 1.3105 - val_accuracy: 0.7660\n",
      "Epoch 39/100\n",
      "166/166 [==============================] - 108s 651ms/step - loss: 0.0917 - accuracy: 0.9648 - val_loss: 0.3596 - val_accuracy: 0.9006\n",
      "Epoch 40/100\n",
      "166/166 [==============================] - 109s 652ms/step - loss: 0.1018 - accuracy: 0.9652 - val_loss: 0.5548 - val_accuracy: 0.7628\n",
      "Epoch 41/100\n",
      "166/166 [==============================] - 109s 657ms/step - loss: 0.0961 - accuracy: 0.9651 - val_loss: 1.0955 - val_accuracy: 0.6587\n",
      "Epoch 42/100\n",
      "166/166 [==============================] - 109s 653ms/step - loss: 0.0773 - accuracy: 0.9717 - val_loss: 5.1699 - val_accuracy: 0.6250\n",
      "Epoch 43/100\n",
      "166/166 [==============================] - 109s 654ms/step - loss: 0.0864 - accuracy: 0.9717 - val_loss: 1.2766 - val_accuracy: 0.7740\n",
      "Epoch 00043: early stopping\n"
     ]
    },
    {
     "data": {
      "text/plain": [
       "<tensorflow.python.keras.callbacks.History at 0x1f4209bb400>"
      ]
     },
     "execution_count": 7,
     "metadata": {},
     "output_type": "execute_result"
    }
   ],
   "source": [
    "from tensorflow.keras.callbacks import EarlyStopping\n",
    "\n",
    "early_stop = EarlyStopping(monitor='val_loss', mode='min', verbose=1, patience=15)\n",
    "\n",
    "\n",
    "cnn2.compile(optimizer = 'adam', loss = 'binary_crossentropy', metrics = ['accuracy'])\n",
    "\n",
    "cnn2.fit(x = training_set, validation_data = test_set, epochs = 100,callbacks=[early_stop],verbose=1)"
   ]
  },
  {
   "cell_type": "code",
   "execution_count": 12,
   "metadata": {
    "scrolled": true
   },
   "outputs": [
    {
     "data": {
      "text/plain": [
       "<AxesSubplot:>"
      ]
     },
     "execution_count": 12,
     "metadata": {},
     "output_type": "execute_result"
    },
    {
     "data": {
      "image/png": "[encoded data removed]",
      "text/plain": [
       "<Figure size 432x288 with 1 Axes>"
      ]
     },
     "metadata": {
      "needs_background": "light"
     },
     "output_type": "display_data"
    }
   ],
   "source": [
    "model2_loss = pd.DataFrame(cnn2.history.history)\n",
    "model2_loss[['loss','val_loss']].plot(ylim=(0,2))"
   ]
  },
  {
   "cell_type": "markdown",
   "metadata": {},
   "source": [
    "Our validation loss is like a heart rate monitor, however it still shows a general downward trend, further tuning of the model might be required."
   ]
  },
  {
   "cell_type": "code",
   "execution_count": 14,
   "metadata": {
    "scrolled": true
   },
   "outputs": [
    {
     "data": {
      "text/plain": [
       "<AxesSubplot:>"
      ]
     },
     "execution_count": 14,
     "metadata": {},
     "output_type": "execute_result"
    },
    {
     "data": {
      "image/png": "[encoded data removed]",
      "text/plain": [
       "<Figure size 432x288 with 1 Axes>"
      ]
     },
     "metadata": {
      "needs_background": "light"
     },
     "output_type": "display_data"
    }
   ],
   "source": [
    "model2_loss = pd.DataFrame(cnn2.history.history)\n",
    "model2_loss[['accuracy','val_accuracy']].plot(ylim=(0,1))"
   ]
  },
  {
   "cell_type": "code",
   "execution_count": 34,
   "metadata": {},
   "outputs": [],
   "source": [
    "cnn2.save('Binary prediction.h5')"
   ]
  },
  {
   "cell_type": "code",
   "execution_count": 16,
   "metadata": {},
   "outputs": [],
   "source": [
    "pred = cnn2.predict_classes(test_set)"
   ]
  },
  {
   "cell_type": "code",
   "execution_count": 33,
   "metadata": {
    "scrolled": true
   },
   "outputs": [
    {
     "name": "stdout",
     "output_type": "stream",
     "text": [
      "[[ 43 191]\n",
      " [ 52 338]]\n",
      "\n",
      "\n",
      "              precision    recall  f1-score   support\n",
      "\n",
      "      Normal       0.45      0.18      0.26       234\n",
      "   Pneumonia       0.64      0.87      0.74       390\n",
      "\n",
      "    accuracy                           0.61       624\n",
      "   macro avg       0.55      0.53      0.50       624\n",
      "weighted avg       0.57      0.61      0.56       624\n",
      "\n",
      "\n",
      "\n",
      "Accuracy score 61.06\n"
     ]
    }
   ],
   "source": [
    "from sklearn.metrics import classification_report,confusion_matrix,accuracy_score\n",
    "print(confusion_matrix(test_set.classes,pred))\n",
    "print('\\n')\n",
    "print(classification_report(test_set.classes,pred,target_names=test_set.class_indices))\n",
    "print('\\n')\n",
    "print('Accuracy score {:.2f}'.format(accuracy_score(test_set.classes,pred)*100))\n"
   ]
  },
  {
   "cell_type": "markdown",
   "metadata": {},
   "source": [
    "This binary classification model is better than the multiclass classification model with a higher accuracy, as well as a higher recall for Pnuemonia class which is important as it is better to be safe than sorry for covide detection."
   ]
  },
  {
   "cell_type": "markdown",
   "metadata": {},
   "source": [
    "We can even increase recall further by ensuring that if the predicted probability of class 1 is >0.4, then the data is labelled as pnuemonia, however that will cause the precision to decrease, showing the precision recall tradeoff."
   ]
  },
  {
   "cell_type": "markdown",
   "metadata": {},
   "source": [
    "Perhaps both models could be improved on with balancing the classes of data as there is only 58 pictures that are labelled covid which shows the class imbalance. We can oversample using data augmentation and we can also tune the parameters of our model better. Another way to improve our model is using transfer learning which I will do so in the next part!"
   ]
  }
 ],
 "metadata": {
  "kernelspec": {
   "display_name": "Python 3",
   "language": "python",
   "name": "python3"
  },
  "language_info": {
   "codemirror_mode": {
    "name": "ipython",
    "version": 3
   },
   "file_extension": ".py",
   "mimetype": "text/x-python",
   "name": "python",
   "nbconvert_exporter": "python",
   "pygments_lexer": "ipython3",
   "version": "3.8.5"
  }
 },
 "nbformat": 4,
 "nbformat_minor": 4
}
